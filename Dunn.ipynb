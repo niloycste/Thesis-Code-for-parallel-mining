{
 "cells": [
  {
   "cell_type": "code",
   "execution_count": 4,
   "metadata": {},
   "outputs": [
    {
     "name": "stdout",
     "output_type": "stream",
     "text": [
      "importing done\n"
     ]
    }
   ],
   "source": [
    "from sklearn.cluster import KMeans \n",
    "from sklearn.metrics import davies_bouldin_score \n",
    "from sklearn.datasets.samples_generator import make_blobs \n",
    "import xlrd\n",
    "import time\n",
    "from collections import Counter\n",
    "from random import choice\n",
    "import random\n",
    "\n",
    "print('importing done')\n",
    "#import sys\n",
    "#!{sys.executable} -m pip install sklearn.metrics\n",
    "#pip install -U \n",
    "#import pandas as pd \n",
    "#from sklearn import datasets \n",
    "#from jqmcvi import base "
   ]
  },
  {
   "cell_type": "code",
   "execution_count": 5,
   "metadata": {},
   "outputs": [
    {
     "name": "stdout",
     "output_type": "stream",
     "text": [
      "Total Trasactions 1000000\n",
      "starting...\n"
     ]
    }
   ],
   "source": [
    "loc = (\"/home/sameen/Documents/blockchain/multi mining/data_new.xlsx\")\n",
    "wb = xlrd.open_workbook(loc) \n",
    "sheet = wb.sheet_by_index(0) \n",
    "print('Total Trasactions',sheet.nrows)\n",
    "column = 0\n",
    "\n",
    "startRow = 1\n",
    "endRow = 1000000\n",
    "\n",
    "print('starting...')"
   ]
  },
  {
   "cell_type": "code",
   "execution_count": 6,
   "metadata": {},
   "outputs": [
    {
     "ename": "NameError",
     "evalue": "name 'davies_boulding_score' is not defined",
     "output_type": "error",
     "traceback": [
      "\u001b[0;31m---------------------------------------------------------------------------\u001b[0m",
      "\u001b[0;31mNameError\u001b[0m                                 Traceback (most recent call last)",
      "\u001b[0;32m<ipython-input-6-3b843adddb2e>\u001b[0m in \u001b[0;36m<module>\u001b[0;34m\u001b[0m\n\u001b[1;32m     13\u001b[0m         \u001b[0;31m#print(i,\"\",region)\u001b[0m\u001b[0;34m\u001b[0m\u001b[0;34m\u001b[0m\u001b[0;34m\u001b[0m\u001b[0m\n\u001b[1;32m     14\u001b[0m         \u001b[0mreg\u001b[0m\u001b[0;34m.\u001b[0m\u001b[0minsert\u001b[0m\u001b[0;34m(\u001b[0m\u001b[0mi\u001b[0m\u001b[0;34m,\u001b[0m\u001b[0mregion\u001b[0m\u001b[0;34m)\u001b[0m\u001b[0;34m\u001b[0m\u001b[0;34m\u001b[0m\u001b[0m\n\u001b[0;32m---> 15\u001b[0;31m         \u001b[0mprint\u001b[0m\u001b[0;34m(\u001b[0m\u001b[0mdavies_boulding_score\u001b[0m\u001b[0;34m(\u001b[0m\u001b[0mreg\u001b[0m\u001b[0;34m,\u001b[0m\u001b[0mregion\u001b[0m\u001b[0;34m)\u001b[0m\u001b[0;34m)\u001b[0m\u001b[0;34m\u001b[0m\u001b[0;34m\u001b[0m\u001b[0m\n\u001b[0m\u001b[1;32m     16\u001b[0m     \u001b[0mprint\u001b[0m\u001b[0;34m(\u001b[0m\u001b[0;34m'No of region is: '\u001b[0m\u001b[0;34m,\u001b[0m\u001b[0mj\u001b[0m\u001b[0;34m)\u001b[0m\u001b[0;34m\u001b[0m\u001b[0;34m\u001b[0m\u001b[0m\n\u001b[1;32m     17\u001b[0m     \u001b[0md\u001b[0m\u001b[0;34m=\u001b[0m \u001b[0mCounter\u001b[0m\u001b[0;34m(\u001b[0m\u001b[0mreg\u001b[0m\u001b[0;34m)\u001b[0m\u001b[0;34m\u001b[0m\u001b[0;34m\u001b[0m\u001b[0m\n",
      "\u001b[0;31mNameError\u001b[0m: name 'davies_boulding_score' is not defined"
     ]
    }
   ],
   "source": [
    "for j in range(2,4):\n",
    "    reg=[]\n",
    "    for i in range(10):\n",
    "        row = random.randint(startRow, endRow)\n",
    "        #print (row)\n",
    "        tempp = sheet.cell_value(row, column)\n",
    "        #print (tempp)\n",
    "        if len(tempp) < 16 :\n",
    "            tempp = ' 283035966979891a185698dd9c043a1eac75918e'\n",
    "        else:\n",
    "            dec = int(tempp, 16) #int(choice(sheet.col(column)).value, 16)\n",
    "        region = dec%j\n",
    "        #print(i,\"\",region)\n",
    "        reg.insert(i,region)\n",
    "        print(davies_boulding_score(reg,region))\n",
    "    print('No of region is: ',j)\n",
    "    d= Counter(reg)\n",
    "    #print('{} has occured {} times'.format(50, d[50]))\n",
    "    for k in range(0,j):\n",
    "        print('{} has occured {} times'.format(k, d[k]))\n",
    "        \n"
   ]
  },
  {
   "cell_type": "code",
   "execution_count": null,
   "metadata": {},
   "outputs": [],
   "source": [
    "X, y_true = make_blobs(n_samples=300, centers=4,  \n",
    "                       cluster_std=0.50, random_state=0) \n",
    "  \n",
    "# K-Means \n",
    "kmeans = KMeans(n_clusters=4, random_state=1).fit(X) \n",
    "  \n",
    "# we store the cluster labels \n",
    "labels = kmeans.labels_ \n",
    "  \n",
    "print(davies_bouldin_score(X, labels)) "
   ]
  },
  {
   "cell_type": "code",
   "execution_count": null,
   "metadata": {},
   "outputs": [],
   "source": [
    "X = datasets.load_iris() \n",
    "df = pd.DataFrame(X.data) \n"
   ]
  },
  {
   "cell_type": "code",
   "execution_count": null,
   "metadata": {},
   "outputs": [],
   "source": [
    "# K-Means \n",
    "from sklearn import cluster \n",
    "k_means = cluster.KMeans(n_clusters=3) \n",
    "k_means.fit(df) #K-means training \n",
    "y_pred = k_means.predict(df) \n",
    "  \n",
    "# We store the K-means results in a dataframe \n",
    "pred = pd.DataFrame(y_pred) \n",
    "pred.columns = ['Type'] \n",
    "  \n",
    "# we merge this dataframe with df \n",
    "prediction = pd.concat([df, pred], axis = 1) \n",
    "  \n",
    "# We store the clusters \n",
    "clus0 = prediction.loc[prediction.Species == 0] \n",
    "clus1 = prediction.loc[prediction.Species == 1] \n",
    "clus2 = prediction.loc[prediction.Species == 2] \n",
    "cluster_list = [clus0.values, clus1.values, clus2.values] \n",
    "  \n",
    "print(base.dunn(cluster_list)) "
   ]
  },
  {
   "cell_type": "code",
   "execution_count": null,
   "metadata": {},
   "outputs": [],
   "source": []
  },
  {
   "cell_type": "code",
   "execution_count": null,
   "metadata": {},
   "outputs": [],
   "source": []
  },
  {
   "cell_type": "code",
   "execution_count": null,
   "metadata": {},
   "outputs": [],
   "source": []
  },
  {
   "cell_type": "code",
   "execution_count": null,
   "metadata": {},
   "outputs": [],
   "source": []
  }
 ],
 "metadata": {
  "kernelspec": {
   "display_name": "Python 3",
   "language": "python",
   "name": "python3"
  },
  "language_info": {
   "codemirror_mode": {
    "name": "ipython",
    "version": 3
   },
   "file_extension": ".py",
   "mimetype": "text/x-python",
   "name": "python",
   "nbconvert_exporter": "python",
   "pygments_lexer": "ipython3",
   "version": "3.7.4"
  }
 },
 "nbformat": 4,
 "nbformat_minor": 2
}
