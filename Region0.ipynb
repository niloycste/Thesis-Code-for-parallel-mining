{
 "cells": [
  {
   "cell_type": "code",
   "execution_count": 96,
   "metadata": {},
   "outputs": [
    {
     "name": "stdout",
     "output_type": "stream",
     "text": [
      "100000\n",
      "100400\n"
     ]
    }
   ],
   "source": [
    "import xlrd\n",
    "import time\n",
    "import random\n",
    "from threading import Thread \n",
    "import sys  \n",
    "#import Pool\n",
    "import threading\n",
    "%run Pool.ipynb\n",
    "\n",
    "#pool.increment()\n",
    "\n"
   ]
  },
  {
   "cell_type": "code",
   "execution_count": 102,
   "metadata": {},
   "outputs": [
    {
     "name": "stdout",
     "output_type": "stream",
     "text": [
      "Updated 104000\n",
      "123600\n",
      "124000\n",
      "124400\n",
      "124800\n",
      "125200\n",
      "125600\n",
      "126000\n",
      "126400\n",
      "126800\n",
      "127200\n",
      "127600\n",
      "128000\n",
      "128400\n",
      "128800\n",
      "129200\n",
      "129600\n",
      "130000\n",
      "130400\n",
      "130800\n",
      "131200\n"
     ]
    }
   ],
   "source": [
    "print ('Updated',pool)"
   ]
  },
  {
   "cell_type": "code",
   "execution_count": 97,
   "metadata": {},
   "outputs": [
    {
     "name": "stdout",
     "output_type": "stream",
     "text": [
      "100800\n",
      "1\n",
      "101200\n",
      "101600\n",
      "102000\n",
      "102400\n"
     ]
    }
   ],
   "source": [
    "loc = (\"/home/sameen/Documents/blockchain/multi mining/set1.xlsx\")\n",
    "wb = xlrd.open_workbook(loc) \n",
    "sheet = wb.sheet_by_index(0) \n",
    "\n",
    "noRegion = 1\n",
    "minRange = 300\n",
    "maxRange = 800\n",
    "trail = 1\n",
    "\n",
    "print (trail)"
   ]
  },
  {
   "cell_type": "code",
   "execution_count": 98,
   "metadata": {},
   "outputs": [
    {
     "name": "stdout",
     "output_type": "stream",
     "text": [
      "102800\n",
      "103200\n",
      "103600\n",
      "104000\n",
      "104400\n"
     ]
    }
   ],
   "source": [
    "#if len(tempp) < 16 :\n",
    "\n",
    "        #    tempp = ' 283035966979891a185698dd9c043a1eac75918e'\n",
    "        #else:\n",
    "\n"
   ]
  },
  {
   "cell_type": "code",
   "execution_count": 100,
   "metadata": {},
   "outputs": [
    {
     "name": "stdout",
     "output_type": "stream",
     "text": [
      "104000\n",
      "108000\n",
      "108400\n",
      "108800\n",
      "109200\n"
     ]
    }
   ],
   "source": [
    "print(pool)"
   ]
  },
  {
   "cell_type": "code",
   "execution_count": 101,
   "metadata": {
    "scrolled": true
   },
   "outputs": [
    {
     "name": "stdout",
     "output_type": "stream",
     "text": [
      "Region 0\n",
      "530\n",
      "109600\n",
      "110000\n",
      "110400\n",
      "110800\n",
      "111200\n",
      "111600\n",
      "112000\n",
      "112400\n",
      "112800\n",
      "113200\n",
      "113600\n",
      "114000\n",
      "114400\n",
      "114800\n",
      "13.782571792602539\n",
      "530\n",
      "115200\n",
      "115600\n",
      "116000\n",
      "116400\n",
      "116800\n",
      "117200\n",
      "117600\n",
      "118000\n",
      "118400\n",
      "118800\n",
      "119200\n",
      "119600\n",
      "120000\n",
      "120400\n",
      "120800\n",
      "121200\n",
      "121600\n",
      "122000\n",
      "122400\n",
      "122800\n",
      "123200\n"
     ]
    }
   ],
   "source": [
    " for runs in range(trail):\n",
    "    print ('Region 0')\n",
    "    region0 =[]\n",
    "\n",
    "    noTrans = random.randrange(minRange, maxRange, 1)\n",
    "\n",
    "    print(noTrans)\n",
    "    start=time.time()\n",
    "    for i in range(noTrans):\n",
    "        tempp = sheet.cell_value(i,0)\n",
    "        \n",
    "        dec = int(tempp, 16)\n",
    "        reg = dec%noRegion\n",
    "        if reg == 0:\n",
    "            region0.append(tempp)\n",
    "\n",
    "\n",
    "    mineTime = random.uniform(8.0,16.0)        \n",
    "    time.sleep(mineTime)        \n",
    "    end = time.time()\n",
    "    #print(\"MiningTime: \",mineTime)\n",
    "    print(end-start)\n",
    "    print(len(region0))\n"
   ]
  },
  {
   "cell_type": "code",
   "execution_count": 4,
   "metadata": {},
   "outputs": [
    {
     "name": "stdout",
     "output_type": "stream",
     "text": [
      "Region 1\n",
      "333\n",
      "MiningTime:  11.01456774883902\n",
      "11.025940656661987\n",
      "44\n"
     ]
    }
   ],
   "source": [
    "for runs in range(trail): \n",
    "    print ('Region 1')\n",
    "    region1 =[]\n",
    "\n",
    "    noTrans = random.randrange(minRange, maxRange, 1)\n",
    "\n",
    "    print(noTrans)\n",
    "    start=time.time()\n",
    "    for i in range(noTrans):\n",
    "        tempp = sheet.cell_value(i,0)\n",
    "        if len(tempp) < 16 :\n",
    "\n",
    "            tempp = ' 283035966979891a185698dd9c043a1eac75918e'\n",
    "        else:\n",
    "            dec = int(tempp, 16)\n",
    "        reg = dec%noRegion\n",
    "        if reg == 1:\n",
    "            region1.append(tempp)\n",
    "\n",
    "\n",
    "    mineTime = random.uniform(8.0,16.0)        \n",
    "    time.sleep(mineTime)        \n",
    "    end = time.time()\n",
    "    print(\"MiningTime: \",mineTime)\n",
    "    print(end-start)\n",
    "    print(len(region1))\n"
   ]
  },
  {
   "cell_type": "code",
   "execution_count": null,
   "metadata": {},
   "outputs": [],
   "source": []
  },
  {
   "cell_type": "code",
   "execution_count": 5,
   "metadata": {},
   "outputs": [
    {
     "name": "stdout",
     "output_type": "stream",
     "text": [
      "Region 2\n",
      "387\n",
      "MiningTime:  9.79823159864824\n",
      "9.802214860916138\n",
      "66\n"
     ]
    }
   ],
   "source": [
    "for runs in range(trail): \n",
    "    print ('Region 2')\n",
    "    region2 =[]\n",
    "\n",
    "    noTrans = random.randrange(minRange, maxRange, 1)\n",
    "\n",
    "    print(noTrans)\n",
    "    start=time.time()\n",
    "    for i in range(noTrans):\n",
    "        tempp = sheet.cell_value(i,0)\n",
    "        if len(tempp) < 16 :\n",
    "\n",
    "            tempp = ' 283035966979891a185698dd9c043a1eac75918e'\n",
    "        else:\n",
    "            dec = int(tempp, 16)\n",
    "        reg = dec%noRegion\n",
    "        if reg == 2:\n",
    "            region2.append(tempp)\n",
    "\n",
    "\n",
    "    mineTime = random.uniform(8.0,16.0)        \n",
    "    time.sleep(mineTime)        \n",
    "    end = time.time()\n",
    "    print(\"MiningTime: \",mineTime)\n",
    "    print(end-start)\n",
    "    print(len(region2))\n"
   ]
  },
  {
   "cell_type": "code",
   "execution_count": 6,
   "metadata": {},
   "outputs": [
    {
     "name": "stdout",
     "output_type": "stream",
     "text": [
      "Region 3\n",
      "309\n",
      "MiningTime:  15.024825424499772\n",
      "15.036643743515015\n",
      "71\n"
     ]
    }
   ],
   "source": [
    "for runs in range(trail): \n",
    "    print ('Region 3')\n",
    "    region3 =[]\n",
    "\n",
    "    noTrans = random.randrange(minRange, maxRange, 1)\n",
    "\n",
    "    print(noTrans)\n",
    "    start=time.time()\n",
    "    for i in range(noTrans):\n",
    "        tempp = sheet.cell_value(i,0)\n",
    "        if len(tempp) < 16 :\n",
    "\n",
    "            tempp = ' 283035966979891a185698dd9c043a1eac75918e'\n",
    "        else:\n",
    "            dec = int(tempp, 16)\n",
    "        reg = dec%noRegion\n",
    "        if reg == 3:\n",
    "            region3.append(tempp)\n",
    "\n",
    "\n",
    "    mineTime = random.uniform(8.0,16.0)        \n",
    "    time.sleep(mineTime)        \n",
    "    end = time.time()\n",
    "    print(\"MiningTime: \",mineTime)\n",
    "    print(end-start)\n",
    "    print(len(region3))\n"
   ]
  },
  {
   "cell_type": "code",
   "execution_count": 7,
   "metadata": {},
   "outputs": [
    {
     "name": "stdout",
     "output_type": "stream",
     "text": [
      "Region 4\n",
      "474\n",
      "MiningTime:  13.711336113837017\n",
      "13.725531339645386\n",
      "76\n"
     ]
    }
   ],
   "source": [
    "for runs in range(trail): \n",
    "    print ('Region 4')\n",
    "    region4 =[]\n",
    "\n",
    "    noTrans = random.randrange(minRange, maxRange, 1)\n",
    "\n",
    "    print(noTrans)\n",
    "    start=time.time()\n",
    "    for i in range(noTrans):\n",
    "        tempp = sheet.cell_value(i,0)\n",
    "        if len(tempp) < 16 :\n",
    "\n",
    "            tempp = ' 283035966979891a185698dd9c043a1eac75918e'\n",
    "        else:\n",
    "            dec = int(tempp, 16)\n",
    "        reg = dec%noRegion\n",
    "        if reg == 4:\n",
    "            region4.append(tempp)\n",
    "\n",
    "\n",
    "    mineTime = random.uniform(8.0,16.0)        \n",
    "    time.sleep(mineTime)        \n",
    "    end = time.time()\n",
    "    print(\"MiningTime: \",mineTime)\n",
    "    print(end-start)\n",
    "    print(len(region4))"
   ]
  },
  {
   "cell_type": "code",
   "execution_count": 8,
   "metadata": {},
   "outputs": [
    {
     "name": "stdout",
     "output_type": "stream",
     "text": [
      "Region 5\n",
      "301\n",
      "MiningTime:  12.66136251896473\n",
      "12.674427509307861\n",
      "45\n"
     ]
    }
   ],
   "source": [
    "for runs in range(trail): \n",
    "    print ('Region 5')\n",
    "    region5 =[]\n",
    "\n",
    "    noTrans = random.randrange(minRange, maxRange, 1)\n",
    "\n",
    "    print(noTrans)\n",
    "    start=time.time()\n",
    "    for i in range(noTrans):\n",
    "        tempp = sheet.cell_value(i,0)\n",
    "        if len(tempp) < 16 :\n",
    "\n",
    "            tempp = ' 283035966979891a185698dd9c043a1eac75918e'\n",
    "        else:\n",
    "            dec = int(tempp, 16)\n",
    "        reg = dec%noRegion\n",
    "        if reg == 5:\n",
    "            region5.append(tempp)\n",
    "\n",
    "\n",
    "    mineTime = random.uniform(8.0,16.0)        \n",
    "    time.sleep(mineTime)        \n",
    "    end = time.time()\n",
    "    print(\"MiningTime: \",mineTime)\n",
    "    print(end-start)\n",
    "    print(len(region5))"
   ]
  },
  {
   "cell_type": "code",
   "execution_count": 9,
   "metadata": {},
   "outputs": [
    {
     "name": "stdout",
     "output_type": "stream",
     "text": [
      "Region 6\n",
      "347\n",
      "MiningTime:  13.412748243764808\n",
      "13.42656421661377\n",
      "0\n"
     ]
    }
   ],
   "source": [
    "for runs in range(trail): \n",
    "    print ('Region 6')\n",
    "    region6 =[]\n",
    "\n",
    "    noTrans = random.randrange(minRange, maxRange, 1)\n",
    "\n",
    "    print(noTrans)\n",
    "    start=time.time()\n",
    "    for i in range(noTrans):\n",
    "        tempp = sheet.cell_value(i,0)\n",
    "        if len(tempp) < 16 :\n",
    "\n",
    "            tempp = ' 283035966979891a185698dd9c043a1eac75918e'\n",
    "        else:\n",
    "            dec = int(tempp, 16)\n",
    "        reg = dec%noRegion\n",
    "        if reg == 6:\n",
    "            region6.append(tempp)\n",
    "\n",
    "\n",
    "    mineTime = random.uniform(8.0,16.0)        \n",
    "    time.sleep(mineTime)        \n",
    "    end = time.time()\n",
    "    print(\"MiningTime: \",mineTime)\n",
    "    print(end-start)\n",
    "    print(len(region6))"
   ]
  },
  {
   "cell_type": "code",
   "execution_count": 10,
   "metadata": {},
   "outputs": [
    {
     "name": "stdout",
     "output_type": "stream",
     "text": [
      "Region 7\n",
      "476\n",
      "MiningTime:  14.00115391584934\n",
      "14.00580620765686\n",
      "0\n"
     ]
    }
   ],
   "source": [
    "for runs in range(trail): \n",
    "    print ('Region 7')\n",
    "    region7 =[]\n",
    "\n",
    "    noTrans = random.randrange(minRange, maxRange, 1)\n",
    "\n",
    "    print(noTrans)\n",
    "    start=time.time()\n",
    "    for i in range(noTrans):\n",
    "        tempp = sheet.cell_value(i,0)\n",
    "        if len(tempp) < 16 :\n",
    "\n",
    "            tempp = ' 283035966979891a185698dd9c043a1eac75918e'\n",
    "        else:\n",
    "            dec = int(tempp, 16)\n",
    "        reg = dec%noRegion\n",
    "        if reg == 7:\n",
    "            region7.append(tempp)\n",
    "\n",
    "\n",
    "    mineTime = random.uniform(8.0,16.0)        \n",
    "    time.sleep(mineTime)        \n",
    "    end = time.time()\n",
    "    print(\"MiningTime: \",mineTime)\n",
    "    print(end-start)\n",
    "    print(len(region7))"
   ]
  },
  {
   "cell_type": "code",
   "execution_count": 11,
   "metadata": {
    "scrolled": true
   },
   "outputs": [
    {
     "name": "stdout",
     "output_type": "stream",
     "text": [
      "Region 8\n",
      "362\n",
      "MiningTime:  13.423333584732923\n",
      "13.431564092636108\n",
      "0\n"
     ]
    }
   ],
   "source": [
    "for runs in range(trail): \n",
    "    print ('Region 8')\n",
    "    region8 =[]\n",
    "\n",
    "    noTrans = random.randrange(minRange, maxRange, 1)\n",
    "\n",
    "    print(noTrans)\n",
    "    start=time.time()\n",
    "    for i in range(noTrans):\n",
    "        tempp = sheet.cell_value(i,0)\n",
    "        if len(tempp) < 16 :\n",
    "\n",
    "            tempp = ' 283035966979891a185698dd9c043a1eac75918e'\n",
    "        else:\n",
    "            dec = int(tempp, 16)\n",
    "        reg = dec%noRegion\n",
    "        if reg == 8:\n",
    "            region8.append(tempp)\n",
    "\n",
    "\n",
    "    mineTime = random.uniform(8.0,16.0)        \n",
    "    time.sleep(mineTime)        \n",
    "    end = time.time()\n",
    "    print(\"MiningTime: \",mineTime)\n",
    "    print(end-start)\n",
    "    print(len(region8))"
   ]
  },
  {
   "cell_type": "code",
   "execution_count": null,
   "metadata": {},
   "outputs": [],
   "source": []
  },
  {
   "cell_type": "code",
   "execution_count": null,
   "metadata": {},
   "outputs": [],
   "source": []
  }
 ],
 "metadata": {
  "kernelspec": {
   "display_name": "Python 3",
   "language": "python",
   "name": "python3"
  },
  "language_info": {
   "codemirror_mode": {
    "name": "ipython",
    "version": 3
   },
   "file_extension": ".py",
   "mimetype": "text/x-python",
   "name": "python",
   "nbconvert_exporter": "python",
   "pygments_lexer": "ipython3",
   "version": "3.7.3"
  }
 },
 "nbformat": 4,
 "nbformat_minor": 2
}
